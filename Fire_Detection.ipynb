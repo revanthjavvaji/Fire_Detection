{
  "cells": [
    {
      "cell_type": "markdown",
      "metadata": {
        "id": "view-in-github",
        "colab_type": "text"
      },
      "source": [
        "<a href=\"https://colab.research.google.com/github/revanthjavvaji/Fire_Detection/blob/main/Fire_Detection.ipynb\" target=\"_parent\"><img src=\"https://colab.research.google.com/assets/colab-badge.svg\" alt=\"Open In Colab\"/></a>"
      ]
    },
    {
      "cell_type": "code",
      "source": [
        "!pip install keras_preprocessing"
      ],
      "metadata": {
        "colab": {
          "base_uri": "https://localhost:8080/"
        },
        "id": "WBYlZF4Y4Rhl",
        "outputId": "194fa6ca-0d0b-4844-e73d-9b8dd7b49b22"
      },
      "execution_count": null,
      "outputs": [
        {
          "output_type": "stream",
          "name": "stdout",
          "text": [
            "Looking in indexes: https://pypi.org/simple, https://us-python.pkg.dev/colab-wheels/public/simple/\n",
            "Requirement already satisfied: keras_preprocessing in /usr/local/lib/python3.8/dist-packages (1.1.2)\n",
            "Requirement already satisfied: six>=1.9.0 in /usr/local/lib/python3.8/dist-packages (from keras_preprocessing) (1.15.0)\n",
            "Requirement already satisfied: numpy>=1.9.1 in /usr/local/lib/python3.8/dist-packages (from keras_preprocessing) (1.21.6)\n"
          ]
        }
      ]
    },
    {
      "cell_type": "code",
      "execution_count": null,
      "metadata": {
        "id": "zwhrwB0azHAP"
      },
      "outputs": [],
      "source": [
        "import tensorflow as tf\n",
        "import os\n",
        "import keras_preprocessing\n",
        "from keras_preprocessing import image\n",
        "from keras_preprocessing.image import ImageDataGenerator"
      ]
    },
    {
      "cell_type": "code",
      "execution_count": null,
      "metadata": {
        "id": "ADCK9eUYzMJV"
      },
      "outputs": [],
      "source": [
        "TRAINING_DIR=\"/content/drive/MyDrive/Fire_Detection/Train_v1\""
      ]
    },
    {
      "cell_type": "code",
      "execution_count": null,
      "metadata": {
        "id": "Ae6aDMi69fMg"
      },
      "outputs": [],
      "source": [
        "VALIDATION_DIR = \"/content/drive/MyDrive/Fire_Detection/Test_v1\""
      ]
    },
    {
      "cell_type": "code",
      "execution_count": null,
      "metadata": {
        "colab": {
          "base_uri": "https://localhost:8080/"
        },
        "id": "9rja78Ux9nzI",
        "outputId": "f4e63327-52e4-465c-dc90-79fbe5d3360c"
      },
      "outputs": [
        {
          "output_type": "stream",
          "name": "stdout",
          "text": [
            "Found 4082 images belonging to 2 classes.\n"
          ]
        }
      ],
      "source": [
        "datagen_train =ImageDataGenerator(rescale = 1./255,\n",
        "                                zoom_range=0.25,\n",
        "                                rotation_range=25,\n",
        "                                horizontal_flip=True, vertical_flip=True,\n",
        "                                shear_range=0.4)\n",
        "train_generator = datagen_train.flow_from_directory(TRAINING_DIR,\n",
        "                                         target_size=(250,250),\n",
        "                                         batch_size = 32)"
      ]
    },
    {
      "cell_type": "code",
      "execution_count": null,
      "metadata": {
        "colab": {
          "base_uri": "https://localhost:8080/"
        },
        "id": "SiwcNrE7QCLk",
        "outputId": "d46ea828-c27b-41b7-9851-66a70990f02d"
      },
      "outputs": [
        {
          "output_type": "stream",
          "name": "stdout",
          "text": [
            "Found 1291 images belonging to 2 classes.\n"
          ]
        }
      ],
      "source": [
        "datagen_validation =ImageDataGenerator(rescale = 1./255)\n",
        "validation_generator = datagen_validation.flow_from_directory(VALIDATION_DIR,\n",
        "                                         target_size=(250,250),\n",
        "                                         batch_size = 32)"
      ]
    },
    {
      "cell_type": "code",
      "execution_count": null,
      "metadata": {
        "id": "8v3EaT7kG9NZ"
      },
      "outputs": [],
      "source": [
        "#train_datagen = zip(pos_generator,neg_generator)\n",
        "#training_generator = concatenate([positive_generator, negative_generator])"
      ]
    },
    {
      "cell_type": "markdown",
      "metadata": {
        "id": "ujmP-OETHTzh"
      },
      "source": [
        "# Customized CNN Model"
      ]
    },
    {
      "cell_type": "code",
      "execution_count": null,
      "metadata": {
        "id": "T8p4n0SYjs2F"
      },
      "outputs": [],
      "source": [
        "import tensorflow\n",
        "from tensorflow.keras import Sequential  \n",
        "from tensorflow.keras.layers import Conv2D \n",
        "from tensorflow.keras.layers import MaxPool2D  \n",
        "from tensorflow.keras.layers import Dense, Dropout\n",
        "from tensorflow.keras.layers import Flatten"
      ]
    },
    {
      "cell_type": "code",
      "execution_count": null,
      "metadata": {
        "id": "K7ssmGIIl2Fy"
      },
      "outputs": [],
      "source": [
        "model = Sequential([\n",
        "    Conv2D(128,(5,5),strides=(3,3),activation='relu',input_shape=(250,250,3)),\n",
        "    MaxPool2D(pool_size=(2,2)),\n",
        "    Conv2D(64,(5,5),activation='relu'),\n",
        "    MaxPool2D(pool_size=(2,2)),\n",
        "    Conv2D(32,(5,5),activation='relu'),\n",
        "    MaxPool2D(pool_size=(2,2)),\n",
        "    Flatten(),\n",
        "    #Dropout(0.3),\n",
        "    Dense(1024, activation='relu'),\n",
        "    #Dropout(0.35),\n",
        "    Dense(1024, activation='relu'),\n",
        "    #Dropout(0.35),\n",
        "    Dense(2, activation='softmax')\n",
        "])"
      ]
    },
    {
      "cell_type": "code",
      "execution_count": null,
      "metadata": {
        "colab": {
          "base_uri": "https://localhost:8080/"
        },
        "id": "7f0R6X6NqO8r",
        "outputId": "14b0c314-75fc-4217-ac42-00db112d5912"
      },
      "outputs": [
        {
          "output_type": "stream",
          "name": "stdout",
          "text": [
            "Model: \"sequential_1\"\n",
            "_________________________________________________________________\n",
            " Layer (type)                Output Shape              Param #   \n",
            "=================================================================\n",
            " conv2d_3 (Conv2D)           (None, 82, 82, 128)       9728      \n",
            "                                                                 \n",
            " max_pooling2d_3 (MaxPooling  (None, 41, 41, 128)      0         \n",
            " 2D)                                                             \n",
            "                                                                 \n",
            " conv2d_4 (Conv2D)           (None, 37, 37, 64)        204864    \n",
            "                                                                 \n",
            " max_pooling2d_4 (MaxPooling  (None, 18, 18, 64)       0         \n",
            " 2D)                                                             \n",
            "                                                                 \n",
            " conv2d_5 (Conv2D)           (None, 14, 14, 32)        51232     \n",
            "                                                                 \n",
            " max_pooling2d_5 (MaxPooling  (None, 7, 7, 32)         0         \n",
            " 2D)                                                             \n",
            "                                                                 \n",
            " flatten_1 (Flatten)         (None, 1568)              0         \n",
            "                                                                 \n",
            " dense_3 (Dense)             (None, 1024)              1606656   \n",
            "                                                                 \n",
            " dense_4 (Dense)             (None, 1024)              1049600   \n",
            "                                                                 \n",
            " dense_5 (Dense)             (None, 2)                 2050      \n",
            "                                                                 \n",
            "=================================================================\n",
            "Total params: 2,924,130\n",
            "Trainable params: 2,924,130\n",
            "Non-trainable params: 0\n",
            "_________________________________________________________________\n"
          ]
        }
      ],
      "source": [
        "model.summary()"
      ]
    },
    {
      "cell_type": "code",
      "execution_count": null,
      "metadata": {
        "id": "HbD4lpMXpHc2"
      },
      "outputs": [],
      "source": [
        "from tensorflow.keras.optimizers import Adam\n",
        "\n",
        "model.compile(loss='binary_crossentropy',\n",
        "optimizer=Adam(learning_rate=0.001),\n",
        "metrics=['acc'])"
      ]
    },
    {
      "cell_type": "code",
      "execution_count": null,
      "metadata": {
        "id": "PDI1lUzKpixC",
        "colab": {
          "base_uri": "https://localhost:8080/"
        },
        "outputId": "3330b944-3c07-4b7f-d3f0-68fd911c3daa"
      },
      "outputs": [
        {
          "output_type": "stream",
          "name": "stdout",
          "text": [
            "Epoch 1/20\n",
            "128/128 [==============================] - 2534s 20s/step - loss: 0.3932 - acc: 0.8408 - val_loss: 0.4160 - val_acc: 0.8861\n",
            "Epoch 2/20\n",
            "128/128 [==============================] - 104s 814ms/step - loss: 0.3090 - acc: 0.8934 - val_loss: 0.2510 - val_acc: 0.9094\n",
            "Epoch 3/20\n",
            "128/128 [==============================] - 106s 831ms/step - loss: 0.2282 - acc: 0.9226 - val_loss: 0.1550 - val_acc: 0.9396\n",
            "Epoch 4/20\n",
            "128/128 [==============================] - 105s 822ms/step - loss: 0.1982 - acc: 0.9277 - val_loss: 0.2644 - val_acc: 0.9256\n",
            "Epoch 5/20\n",
            "128/128 [==============================] - 107s 836ms/step - loss: 0.2005 - acc: 0.9290 - val_loss: 0.2061 - val_acc: 0.9280\n",
            "Epoch 6/20\n",
            "128/128 [==============================] - 105s 811ms/step - loss: 0.1873 - acc: 0.9314 - val_loss: 0.2449 - val_acc: 0.9318\n",
            "Epoch 7/20\n",
            "128/128 [==============================] - 107s 836ms/step - loss: 0.1641 - acc: 0.9429 - val_loss: 0.1554 - val_acc: 0.9481\n",
            "Epoch 8/20\n",
            "128/128 [==============================] - 103s 805ms/step - loss: 0.1946 - acc: 0.9341 - val_loss: 0.1948 - val_acc: 0.9357\n",
            "Epoch 9/20\n",
            "128/128 [==============================] - 105s 823ms/step - loss: 0.1698 - acc: 0.9412 - val_loss: 0.2910 - val_acc: 0.9241\n",
            "Epoch 10/20\n",
            "128/128 [==============================] - 106s 824ms/step - loss: 0.1577 - acc: 0.9446 - val_loss: 0.2851 - val_acc: 0.9210\n",
            "Epoch 11/20\n",
            "128/128 [==============================] - 102s 801ms/step - loss: 0.1433 - acc: 0.9486 - val_loss: 0.1963 - val_acc: 0.9396\n",
            "Epoch 12/20\n",
            "128/128 [==============================] - 106s 827ms/step - loss: 0.1395 - acc: 0.9473 - val_loss: 0.2884 - val_acc: 0.9287\n",
            "Epoch 13/20\n",
            "128/128 [==============================] - 104s 810ms/step - loss: 0.1338 - acc: 0.9517 - val_loss: 0.3306 - val_acc: 0.9264\n",
            "Epoch 14/20\n",
            "128/128 [==============================] - 105s 818ms/step - loss: 0.1337 - acc: 0.9554 - val_loss: 0.2408 - val_acc: 0.9032\n",
            "Epoch 15/20\n",
            "128/128 [==============================] - 104s 812ms/step - loss: 0.1248 - acc: 0.9532 - val_loss: 0.4357 - val_acc: 0.8900\n",
            "Epoch 16/20\n",
            "128/128 [==============================] - 105s 820ms/step - loss: 0.1223 - acc: 0.9535 - val_loss: 0.1939 - val_acc: 0.9404\n",
            "Epoch 17/20\n",
            "128/128 [==============================] - 103s 804ms/step - loss: 0.1450 - acc: 0.9493 - val_loss: 0.1501 - val_acc: 0.9396\n",
            "Epoch 18/20\n",
            "128/128 [==============================] - 105s 820ms/step - loss: 0.1255 - acc: 0.9542 - val_loss: 0.2673 - val_acc: 0.9218\n",
            "Epoch 19/20\n",
            "128/128 [==============================] - 104s 816ms/step - loss: 0.1184 - acc: 0.9544 - val_loss: 0.2805 - val_acc: 0.9179\n",
            "Epoch 20/20\n",
            "128/128 [==============================] - 103s 807ms/step - loss: 0.1241 - acc: 0.9535 - val_loss: 0.2895 - val_acc: 0.9334\n"
          ]
        }
      ],
      "source": [
        "history = model.fit(\n",
        "train_generator,\n",
        "epochs = 20,\n",
        "validation_data = validation_generator)"
      ]
    },
    {
      "cell_type": "code",
      "execution_count": null,
      "metadata": {
        "id": "Dh7-3crkQGWw",
        "colab": {
          "base_uri": "https://localhost:8080/",
          "height": 295
        },
        "outputId": "92a84fb1-8d95-457a-9831-6a2b6b901cec"
      },
      "outputs": [
        {
          "output_type": "display_data",
          "data": {
            "text/plain": [
              "<Figure size 432x288 with 1 Axes>"
            ],
            "image/png": "[encoded data removed]"
          },
          "metadata": {
            "needs_background": "light"
          }
        }
      ],
      "source": [
        "from matplotlib import pyplot as plt\n",
        "plt.plot(history.history['acc'])\n",
        "plt.plot(history.history['val_acc'])\n",
        "plt.title('model accuracy')\n",
        "plt.ylabel('accuracy')\n",
        "plt.xlabel('epoch')\n",
        "plt.legend(['train', 'val'], loc='upper left')\n",
        "plt.show()"
      ]
    },
    {
      "cell_type": "code",
      "source": [
        "model.save_weights(\"model.h5\")\n",
        "print(\"Saved model to disk\")"
      ],
      "metadata": {
        "id": "3_73fp8V4yY-",
        "colab": {
          "base_uri": "https://localhost:8080/"
        },
        "outputId": "2c216e10-e1eb-4f7d-940d-717ba78c8932"
      },
      "execution_count": null,
      "outputs": [
        {
          "output_type": "stream",
          "name": "stdout",
          "text": [
            "Saved model to disk\n"
          ]
        }
      ]
    },
    {
      "cell_type": "code",
      "execution_count": null,
      "metadata": {
        "colab": {
          "base_uri": "https://localhost:8080/"
        },
        "id": "V5_r_bz1yqW6",
        "outputId": "ac209ec0-1934-477a-821b-1b9b21dbe898"
      },
      "outputs": [
        {
          "name": "stderr",
          "output_type": "stream",
          "text": [
            "WARNING:absl:Found untraced functions such as _jit_compiled_convolution_op, _jit_compiled_convolution_op, _jit_compiled_convolution_op while saving (showing 3 of 3). These functions will not be directly callable after loading.\n"
          ]
        }
      ],
      "source": [
        "import pickle\n",
        "pickle.dump(model,open(\"model_cnn_v2.h5\",\"wb\"))"
      ]
    },
    {
      "cell_type": "code",
      "execution_count": null,
      "metadata": {
        "id": "qqZ_Eo3FFS1L"
      },
      "outputs": [],
      "source": [
        "import pickle\n",
        "loaded_model=pickle.load(open(\"/content/model_cnn_v1.ckpt\",\"rb\"))"
      ]
    },
    {
      "cell_type": "code",
      "execution_count": null,
      "metadata": {
        "colab": {
          "base_uri": "https://localhost:8080/",
          "height": 246
        },
        "id": "dMVHdteHGD4c",
        "outputId": "4b70075b-fa36-48d3-9256-d5228d4d3135"
      },
      "outputs": [
        {
          "output_type": "display_data",
          "data": {
            "text/plain": [
              "<IPython.core.display.HTML object>"
            ],
            "text/html": [
              "\n",
              "     <input type=\"file\" id=\"files-d5e667f1-c1fb-46cf-9b14-e9483d7f78a7\" name=\"files[]\" multiple disabled\n",
              "        style=\"border:none\" />\n",
              "     <output id=\"result-d5e667f1-c1fb-46cf-9b14-e9483d7f78a7\">\n",
              "      Upload widget is only available when the cell has been executed in the\n",
              "      current browser session. Please rerun this cell to enable.\n",
              "      </output>\n",
              "      <script>// Copyright 2017 Google LLC\n",
              "//\n",
              "// Licensed under the Apache License, Version 2.0 (the \"License\");\n",
              "// you may not use this file except in compliance with the License.\n",
              "// You may obtain a copy of the License at\n",
              "//\n",
              "//      http://www.apache.org/licenses/LICENSE-2.0\n",
              "//\n",
              "// Unless required by applicable law or agreed to in writing, software\n",
              "// distributed under the License is distributed on an \"AS IS\" BASIS,\n",
              "// WITHOUT WARRANTIES OR CONDITIONS OF ANY KIND, either express or implied.\n",
              "// See the License for the specific language governing permissions and\n",
              "// limitations under the License.\n",
              "\n",
              "/**\n",
              " * @fileoverview Helpers for google.colab Python module.\n",
              " */\n",
              "(function(scope) {\n",
              "function span(text, styleAttributes = {}) {\n",
              "  const element = document.createElement('span');\n",
              "  element.textContent = text;\n",
              "  for (const key of Object.keys(styleAttributes)) {\n",
              "    element.style[key] = styleAttributes[key];\n",
              "  }\n",
              "  return element;\n",
              "}\n",
              "\n",
              "// Max number of bytes which will be uploaded at a time.\n",
              "const MAX_PAYLOAD_SIZE = 100 * 1024;\n",
              "\n",
              "function _uploadFiles(inputId, outputId) {\n",
              "  const steps = uploadFilesStep(inputId, outputId);\n",
              "  const outputElement = document.getElementById(outputId);\n",
              "  // Cache steps on the outputElement to make it available for the next call\n",
              "  // to uploadFilesContinue from Python.\n",
              "  outputElement.steps = steps;\n",
              "\n",
              "  return _uploadFilesContinue(outputId);\n",
              "}\n",
              "\n",
              "// This is roughly an async generator (not supported in the browser yet),\n",
              "// where there are multiple asynchronous steps and the Python side is going\n",
              "// to poll for completion of each step.\n",
              "// This uses a Promise to block the python side on completion of each step,\n",
              "// then passes the result of the previous step as the input to the next step.\n",
              "function _uploadFilesContinue(outputId) {\n",
              "  const outputElement = document.getElementById(outputId);\n",
              "  const steps = outputElement.steps;\n",
              "\n",
              "  const next = steps.next(outputElement.lastPromiseValue);\n",
              "  return Promise.resolve(next.value.promise).then((value) => {\n",
              "    // Cache the last promise value to make it available to the next\n",
              "    // step of the generator.\n",
              "    outputElement.lastPromiseValue = value;\n",
              "    return next.value.response;\n",
              "  });\n",
              "}\n",
              "\n",
              "/**\n",
              " * Generator function which is called between each async step of the upload\n",
              " * process.\n",
              " * @param {string} inputId Element ID of the input file picker element.\n",
              " * @param {string} outputId Element ID of the output display.\n",
              " * @return {!Iterable<!Object>} Iterable of next steps.\n",
              " */\n",
              "function* uploadFilesStep(inputId, outputId) {\n",
              "  const inputElement = document.getElementById(inputId);\n",
              "  inputElement.disabled = false;\n",
              "\n",
              "  const outputElement = document.getElementById(outputId);\n",
              "  outputElement.innerHTML = '';\n",
              "\n",
              "  const pickedPromise = new Promise((resolve) => {\n",
              "    inputElement.addEventListener('change', (e) => {\n",
              "      resolve(e.target.files);\n",
              "    });\n",
              "  });\n",
              "\n",
              "  const cancel = document.createElement('button');\n",
              "  inputElement.parentElement.appendChild(cancel);\n",
              "  cancel.textContent = 'Cancel upload';\n",
              "  const cancelPromise = new Promise((resolve) => {\n",
              "    cancel.onclick = () => {\n",
              "      resolve(null);\n",
              "    };\n",
              "  });\n",
              "\n",
              "  // Wait for the user to pick the files.\n",
              "  const files = yield {\n",
              "    promise: Promise.race([pickedPromise, cancelPromise]),\n",
              "    response: {\n",
              "      action: 'starting',\n",
              "    }\n",
              "  };\n",
              "\n",
              "  cancel.remove();\n",
              "\n",
              "  // Disable the input element since further picks are not allowed.\n",
              "  inputElement.disabled = true;\n",
              "\n",
              "  if (!files) {\n",
              "    return {\n",
              "      response: {\n",
              "        action: 'complete',\n",
              "      }\n",
              "    };\n",
              "  }\n",
              "\n",
              "  for (const file of files) {\n",
              "    const li = document.createElement('li');\n",
              "    li.append(span(file.name, {fontWeight: 'bold'}));\n",
              "    li.append(span(\n",
              "        `(${file.type || 'n/a'}) - ${file.size} bytes, ` +\n",
              "        `last modified: ${\n",
              "            file.lastModifiedDate ? file.lastModifiedDate.toLocaleDateString() :\n",
              "                                    'n/a'} - `));\n",
              "    const percent = span('0% done');\n",
              "    li.appendChild(percent);\n",
              "\n",
              "    outputElement.appendChild(li);\n",
              "\n",
              "    const fileDataPromise = new Promise((resolve) => {\n",
              "      const reader = new FileReader();\n",
              "      reader.onload = (e) => {\n",
              "        resolve(e.target.result);\n",
              "      };\n",
              "      reader.readAsArrayBuffer(file);\n",
              "    });\n",
              "    // Wait for the data to be ready.\n",
              "    let fileData = yield {\n",
              "      promise: fileDataPromise,\n",
              "      response: {\n",
              "        action: 'continue',\n",
              "      }\n",
              "    };\n",
              "\n",
              "    // Use a chunked sending to avoid message size limits. See b/62115660.\n",
              "    let position = 0;\n",
              "    do {\n",
              "      const length = Math.min(fileData.byteLength - position, MAX_PAYLOAD_SIZE);\n",
              "      const chunk = new Uint8Array(fileData, position, length);\n",
              "      position += length;\n",
              "\n",
              "      const base64 = btoa(String.fromCharCode.apply(null, chunk));\n",
              "      yield {\n",
              "        response: {\n",
              "          action: 'append',\n",
              "          file: file.name,\n",
              "          data: base64,\n",
              "        },\n",
              "      };\n",
              "\n",
              "      let percentDone = fileData.byteLength === 0 ?\n",
              "          100 :\n",
              "          Math.round((position / fileData.byteLength) * 100);\n",
              "      percent.textContent = `${percentDone}% done`;\n",
              "\n",
              "    } while (position < fileData.byteLength);\n",
              "  }\n",
              "\n",
              "  // All done.\n",
              "  yield {\n",
              "    response: {\n",
              "      action: 'complete',\n",
              "    }\n",
              "  };\n",
              "}\n",
              "\n",
              "scope.google = scope.google || {};\n",
              "scope.google.colab = scope.google.colab || {};\n",
              "scope.google.colab._files = {\n",
              "  _uploadFiles,\n",
              "  _uploadFilesContinue,\n",
              "};\n",
              "})(self);\n",
              "</script> "
            ]
          },
          "metadata": {}
        },
        {
          "output_type": "stream",
          "name": "stdout",
          "text": [
            "Saving istockphoto-153816520-612x612.jpg to istockphoto-153816520-612x612 (1).jpg\n",
            "Saving download.jfif to download (1).jfif\n",
            "Saving outdoor-fireplace-1585628569.jpg to outdoor-fireplace-1585628569 (1).jpg\n",
            "1/1 [==============================] - 0s 24ms/step\n",
            "1\n",
            "1/1 [==============================] - 0s 21ms/step\n",
            "1\n",
            "1/1 [==============================] - 0s 22ms/step\n",
            "1\n"
          ]
        }
      ],
      "source": [
        "from google.colab import files\n",
        "import numpy as np\n",
        "\n",
        "uploaded=files.upload()\n",
        "for fn in uploaded.keys():\n",
        "  path='/content/' + fn\n",
        "  img=image.load_img(path, target_size=(250, 250))\n",
        "  x = image.img_to_array(img)\n",
        "  x = np.expand_dims(x, axis=0) /255\n",
        "  classes = model.predict(x)\n",
        "  print(np.argmax(classes[0]))"
      ]
    },
    {
      "cell_type": "code",
      "source": [
        "print(min(classes[0]))"
      ],
      "metadata": {
        "id": "X9DQXIU3SsVA",
        "colab": {
          "base_uri": "https://localhost:8080/"
        },
        "outputId": "6af557d2-73b5-4ac1-afa9-34863229d13e"
      },
      "execution_count": null,
      "outputs": [
        {
          "output_type": "stream",
          "name": "stdout",
          "text": [
            "0.00054158556\n"
          ]
        }
      ]
    },
    {
      "cell_type": "markdown",
      "metadata": {
        "id": "JUEto9LTuPfz"
      },
      "source": [
        "#Training Using Pre-Trained Model"
      ]
    },
    {
      "cell_type": "markdown",
      "metadata": {
        "id": "d4vp9w9b-X2c"
      },
      "source": [
        "##Vgg Model"
      ]
    },
    {
      "cell_type": "code",
      "execution_count": null,
      "metadata": {
        "id": "9Ve59FrD_UHP"
      },
      "outputs": [],
      "source": [
        "from tensorflow.keras.applications import VGG16\n",
        "from tensorflow.keras.layers import Input"
      ]
    },
    {
      "cell_type": "code",
      "execution_count": null,
      "metadata": {
        "id": "c6bVCCrXMndU"
      },
      "outputs": [],
      "source": [
        "input_tensor = Input(shape=(250, 250, 3))"
      ]
    },
    {
      "cell_type": "code",
      "execution_count": null,
      "metadata": {
        "id": "zoALutM--baL",
        "colab": {
          "base_uri": "https://localhost:8080/"
        },
        "outputId": "b64c4f54-ab18-45dc-bc6d-de8651824406"
      },
      "outputs": [
        {
          "output_type": "stream",
          "name": "stdout",
          "text": [
            "Downloading data from https://storage.googleapis.com/tensorflow/keras-applications/vgg16/vgg16_weights_tf_dim_ordering_tf_kernels_notop.h5\n",
            "58889256/58889256 [==============================] - 2s 0us/step\n"
          ]
        }
      ],
      "source": [
        "model_vgg= VGG16(include_top=False,\n",
        "                 weights=\"imagenet\",\n",
        "                 input_tensor=input_tensor,\n",
        "                 input_shape=(250,250,3)\n",
        "                 #pooling=\"max\"\n",
        "                 )"
      ]
    },
    {
      "cell_type": "code",
      "execution_count": null,
      "metadata": {
        "id": "4_SJhHfENnUx"
      },
      "outputs": [],
      "source": [
        "mod_vgg=model_vgg.output\n",
        "mod_vgg=MaxPool2D()(mod_vgg)\n",
        "mod_vgg=Flatten()(mod_vgg)\n",
        "#mod_vgg= Dense(1024, activation='relu')(mod_vgg)\n",
        "#mod_vgg = Dropout(0.1)(mod_vgg)\n",
        "mod_vgg = Dense(512, activation='relu')(mod_vgg)\n",
        "#mod_vgg = Dropout(0.3)(mod_vgg)\n",
        "output=Dense(2, activation='softmax')(mod_vgg)"
      ]
    },
    {
      "cell_type": "code",
      "execution_count": null,
      "metadata": {
        "id": "nxSZA4BpO15_"
      },
      "outputs": [],
      "source": [
        "from tensorflow.keras.models import Model\n",
        "mode_vgg= Model(inputs=model_vgg.input, outputs=output)"
      ]
    },
    {
      "cell_type": "code",
      "execution_count": null,
      "metadata": {
        "id": "KeKaSxdRQCGG"
      },
      "outputs": [],
      "source": [
        "for layer in model_vgg.layers:\n",
        "  layer.trainable = False"
      ]
    },
    {
      "cell_type": "code",
      "execution_count": null,
      "metadata": {
        "id": "OIPouwpOQOJv"
      },
      "outputs": [],
      "source": [
        "from tensorflow.keras.optimizers import Adam\n",
        "mode_vgg.compile(optimizer=Adam(learning_rate=0.0001), loss='binary_crossentropy', metrics=['accuracy'])"
      ]
    },
    {
      "cell_type": "code",
      "execution_count": null,
      "metadata": {
        "colab": {
          "base_uri": "https://localhost:8080/"
        },
        "id": "gGC1pqn3kQKU",
        "outputId": "ca1a0fb5-76a4-4b05-e9db-d2900a7a2107"
      },
      "outputs": [
        {
          "output_type": "stream",
          "name": "stdout",
          "text": [
            "Model: \"model\"\n",
            "_________________________________________________________________\n",
            " Layer (type)                Output Shape              Param #   \n",
            "=================================================================\n",
            " input_1 (InputLayer)        [(None, 250, 250, 3)]     0         \n",
            "                                                                 \n",
            " block1_conv1 (Conv2D)       (None, 250, 250, 64)      1792      \n",
            "                                                                 \n",
            " block1_conv2 (Conv2D)       (None, 250, 250, 64)      36928     \n",
            "                                                                 \n",
            " block1_pool (MaxPooling2D)  (None, 125, 125, 64)      0         \n",
            "                                                                 \n",
            " block2_conv1 (Conv2D)       (None, 125, 125, 128)     73856     \n",
            "                                                                 \n",
            " block2_conv2 (Conv2D)       (None, 125, 125, 128)     147584    \n",
            "                                                                 \n",
            " block2_pool (MaxPooling2D)  (None, 62, 62, 128)       0         \n",
            "                                                                 \n",
            " block3_conv1 (Conv2D)       (None, 62, 62, 256)       295168    \n",
            "                                                                 \n",
            " block3_conv2 (Conv2D)       (None, 62, 62, 256)       590080    \n",
            "                                                                 \n",
            " block3_conv3 (Conv2D)       (None, 62, 62, 256)       590080    \n",
            "                                                                 \n",
            " block3_pool (MaxPooling2D)  (None, 31, 31, 256)       0         \n",
            "                                                                 \n",
            " block4_conv1 (Conv2D)       (None, 31, 31, 512)       1180160   \n",
            "                                                                 \n",
            " block4_conv2 (Conv2D)       (None, 31, 31, 512)       2359808   \n",
            "                                                                 \n",
            " block4_conv3 (Conv2D)       (None, 31, 31, 512)       2359808   \n",
            "                                                                 \n",
            " block4_pool (MaxPooling2D)  (None, 15, 15, 512)       0         \n",
            "                                                                 \n",
            " block5_conv1 (Conv2D)       (None, 15, 15, 512)       2359808   \n",
            "                                                                 \n",
            " block5_conv2 (Conv2D)       (None, 15, 15, 512)       2359808   \n",
            "                                                                 \n",
            " block5_conv3 (Conv2D)       (None, 15, 15, 512)       2359808   \n",
            "                                                                 \n",
            " block5_pool (MaxPooling2D)  (None, 7, 7, 512)         0         \n",
            "                                                                 \n",
            " max_pooling2d_3 (MaxPooling  (None, 3, 3, 512)        0         \n",
            " 2D)                                                             \n",
            "                                                                 \n",
            " flatten_1 (Flatten)         (None, 4608)              0         \n",
            "                                                                 \n",
            " dense_3 (Dense)             (None, 512)               2359808   \n",
            "                                                                 \n",
            " dense_4 (Dense)             (None, 2)                 1026      \n",
            "                                                                 \n",
            "=================================================================\n",
            "Total params: 17,075,522\n",
            "Trainable params: 2,360,834\n",
            "Non-trainable params: 14,714,688\n",
            "_________________________________________________________________\n"
          ]
        }
      ],
      "source": [
        "mode_vgg.summary()"
      ]
    },
    {
      "cell_type": "code",
      "execution_count": null,
      "metadata": {
        "colab": {
          "base_uri": "https://localhost:8080/"
        },
        "id": "SzIpGeOhQVqb",
        "outputId": "55254db2-0100-4541-9f17-62d79af3e5e6"
      },
      "outputs": [
        {
          "output_type": "stream",
          "name": "stdout",
          "text": [
            "Epoch 1/20\n",
            "134/134 [==============================] - 137s 993ms/step - loss: 0.3885 - accuracy: 0.8274 - val_loss: 0.8272 - val_accuracy: 0.6283\n",
            "Epoch 2/20\n",
            "134/134 [==============================] - 129s 967ms/step - loss: 0.2927 - accuracy: 0.8778 - val_loss: 0.5440 - val_accuracy: 0.7481\n",
            "Epoch 3/20\n",
            "134/134 [==============================] - 130s 968ms/step - loss: 0.2579 - accuracy: 0.8942 - val_loss: 0.4979 - val_accuracy: 0.7760\n",
            "Epoch 4/20\n",
            "134/134 [==============================] - 128s 960ms/step - loss: 0.2350 - accuracy: 0.9033 - val_loss: 0.5185 - val_accuracy: 0.7737\n",
            "Epoch 5/20\n",
            "134/134 [==============================] - 130s 974ms/step - loss: 0.2254 - accuracy: 0.9073 - val_loss: 0.5168 - val_accuracy: 0.7778\n",
            "Epoch 6/20\n",
            "134/134 [==============================] - 129s 966ms/step - loss: 0.2071 - accuracy: 0.9159 - val_loss: 0.5082 - val_accuracy: 0.7886\n",
            "Epoch 7/20\n",
            "134/134 [==============================] - 130s 974ms/step - loss: 0.2124 - accuracy: 0.9197 - val_loss: 0.5049 - val_accuracy: 0.8023\n",
            "Epoch 8/20\n",
            "134/134 [==============================] - 130s 970ms/step - loss: 0.2030 - accuracy: 0.9131 - val_loss: 0.5311 - val_accuracy: 0.7856\n",
            "Epoch 9/20\n",
            "134/134 [==============================] - 130s 967ms/step - loss: 0.1950 - accuracy: 0.9241 - val_loss: 0.4979 - val_accuracy: 0.8034\n",
            "Epoch 10/20\n",
            "134/134 [==============================] - 130s 970ms/step - loss: 0.1916 - accuracy: 0.9195 - val_loss: 0.5069 - val_accuracy: 0.8016\n",
            "Epoch 11/20\n",
            "134/134 [==============================] - 131s 979ms/step - loss: 0.1800 - accuracy: 0.9307 - val_loss: 0.4878 - val_accuracy: 0.8101\n",
            "Epoch 12/20\n",
            "134/134 [==============================] - 130s 968ms/step - loss: 0.1708 - accuracy: 0.9330 - val_loss: 0.5105 - val_accuracy: 0.8045\n",
            "Epoch 13/20\n",
            "134/134 [==============================] - 130s 967ms/step - loss: 0.1659 - accuracy: 0.9358 - val_loss: 0.5479 - val_accuracy: 0.7919\n",
            "Epoch 14/20\n",
            "134/134 [==============================] - 129s 964ms/step - loss: 0.1691 - accuracy: 0.9319 - val_loss: 0.5584 - val_accuracy: 0.7915\n",
            "Epoch 15/20\n",
            "134/134 [==============================] - 130s 968ms/step - loss: 0.1568 - accuracy: 0.9415 - val_loss: 0.5053 - val_accuracy: 0.8116\n",
            "Epoch 16/20\n",
            "134/134 [==============================] - 129s 965ms/step - loss: 0.1545 - accuracy: 0.9401 - val_loss: 0.5333 - val_accuracy: 0.8056\n",
            "Epoch 17/20\n",
            "134/134 [==============================] - 129s 963ms/step - loss: 0.1598 - accuracy: 0.9370 - val_loss: 0.5528 - val_accuracy: 0.7912\n",
            "Epoch 18/20\n",
            "134/134 [==============================] - 129s 964ms/step - loss: 0.1636 - accuracy: 0.9368 - val_loss: 0.5406 - val_accuracy: 0.8060\n",
            "Epoch 19/20\n",
            "134/134 [==============================] - 129s 959ms/step - loss: 0.1525 - accuracy: 0.9401 - val_loss: 0.4887 - val_accuracy: 0.8231\n",
            "Epoch 20/20\n",
            "134/134 [==============================] - 130s 966ms/step - loss: 0.1462 - accuracy: 0.9417 - val_loss: 0.5603 - val_accuracy: 0.8034\n"
          ]
        }
      ],
      "source": [
        "history_vgg= mode_vgg.fit(\n",
        "train_generator,\n",
        "epochs = 20,\n",
        "validation_data = validation_generator)"
      ]
    },
    {
      "cell_type": "code",
      "execution_count": null,
      "metadata": {
        "id": "13phvJ9jQf8m",
        "colab": {
          "base_uri": "https://localhost:8080/",
          "height": 295
        },
        "outputId": "5cf5a1f9-9a75-4756-b87b-aa713e4ecf96"
      },
      "outputs": [
        {
          "output_type": "display_data",
          "data": {
            "text/plain": [
              "<Figure size 432x288 with 1 Axes>"
            ],
            "image/png": "[encoded data removed]"
          },
          "metadata": {
            "needs_background": "light"
          }
        }
      ],
      "source": [
        "from matplotlib import pyplot as plt\n",
        "plt.plot(history_vgg.history['accuracy'])\n",
        "plt.plot(history_vgg.history['val_accuracy'])\n",
        "plt.title('model accuracy')\n",
        "plt.ylabel('accuracy')\n",
        "plt.xlabel('epoch')\n",
        "plt.legend(['train', 'val'], loc='upper left')\n",
        "plt.show()"
      ]
    },
    {
      "cell_type": "code",
      "execution_count": null,
      "metadata": {
        "id": "Fxl0HwQIFiA0"
      },
      "outputs": [],
      "source": [
        "import pickle\n",
        "pickle.dump(mode_vgg,open(\"model_cnn_v2.ckpt\",\"wb\"))"
      ]
    },
    {
      "cell_type": "code",
      "source": [
        "import cv2\n",
        "import numpy as np\n",
        "from PIL import Image\n",
        "import tensorflow as tf\n",
        "from keras.preprocessing import image\n",
        "#Load the saved model\n",
        "import pickle\n",
        "model=pickle.load(open(\"/content/model_cnn_v1.ckpt\",\"rb\"))\n",
        "#model = tf.keras.models.load_model(open('model_cnn_v1.h5'))\n",
        "video = cv2.VideoCapture(0)\n",
        "while True:\n",
        "        _, frame = video.read()\n",
        "#Convert the captured frame into RGB\n",
        "        im = Image.fromarray(frame, 'RGB')\n",
        "#Resizing into 224x224 because we trained the model with this image size.\n",
        "        im = im.resize((250,250))\n",
        "        img_array = image.img_to_array(im)\n",
        "        img_array = np.expand_dims(img_array, axis=0) / 255\n",
        "        probabilities = model.predict(img_array)[0]\n",
        "        #Calling the predict method on model to predict 'fire' on the image\n",
        "        prediction = np.argmax(probabilities)\n",
        "        #if prediction is 0, which means there is fire in the frame.\n",
        "        if prediction == 0:\n",
        "                frame = cv2.cvtColor(frame, cv2.COLOR_RGB2GRAY)\n",
        "                print(probabilities[prediction])\n",
        "        \n",
        "        cv2.imshow(\"Capturing\", frame)\n",
        "        key=cv2.waitKey(1)\n",
        "        if key == ord('q'):\n",
        "                break\n",
        "\n",
        "        \n",
        "video.release()\n",
        "cv2.destroyAllWindows()"
      ],
      "metadata": {
        "colab": {
          "base_uri": "https://localhost:8080/",
          "height": 356
        },
        "id": "tMQuW3I9S3gC",
        "outputId": "2efb9054-0847-4f9c-ce20-b7f0492cf87f"
      },
      "execution_count": null,
      "outputs": [
        {
          "output_type": "error",
          "ename": "AttributeError",
          "evalue": "ignored",
          "traceback": [
            "\u001b[0;31m---------------------------------------------------------------------------\u001b[0m",
            "\u001b[0;31mAttributeError\u001b[0m                            Traceback (most recent call last)",
            "\u001b[0;32m<ipython-input-6-2b161190cd42>\u001b[0m in \u001b[0;36m<module>\u001b[0;34m\u001b[0m\n\u001b[1;32m     12\u001b[0m         \u001b[0m_\u001b[0m\u001b[0;34m,\u001b[0m \u001b[0mframe\u001b[0m \u001b[0;34m=\u001b[0m \u001b[0mvideo\u001b[0m\u001b[0;34m.\u001b[0m\u001b[0mread\u001b[0m\u001b[0;34m(\u001b[0m\u001b[0;34m)\u001b[0m\u001b[0;34m\u001b[0m\u001b[0;34m\u001b[0m\u001b[0m\n\u001b[1;32m     13\u001b[0m \u001b[0;31m#Convert the captured frame into RGB\u001b[0m\u001b[0;34m\u001b[0m\u001b[0;34m\u001b[0m\u001b[0;34m\u001b[0m\u001b[0m\n\u001b[0;32m---> 14\u001b[0;31m         \u001b[0mim\u001b[0m \u001b[0;34m=\u001b[0m \u001b[0mImage\u001b[0m\u001b[0;34m.\u001b[0m\u001b[0mfromarray\u001b[0m\u001b[0;34m(\u001b[0m\u001b[0mframe\u001b[0m\u001b[0;34m,\u001b[0m \u001b[0;34m'RGB'\u001b[0m\u001b[0;34m)\u001b[0m\u001b[0;34m\u001b[0m\u001b[0;34m\u001b[0m\u001b[0m\n\u001b[0m\u001b[1;32m     15\u001b[0m \u001b[0;31m#Resizing into 224x224 because we trained the model with this image size.\u001b[0m\u001b[0;34m\u001b[0m\u001b[0;34m\u001b[0m\u001b[0;34m\u001b[0m\u001b[0m\n\u001b[1;32m     16\u001b[0m         \u001b[0mim\u001b[0m \u001b[0;34m=\u001b[0m \u001b[0mim\u001b[0m\u001b[0;34m.\u001b[0m\u001b[0mresize\u001b[0m\u001b[0;34m(\u001b[0m\u001b[0;34m(\u001b[0m\u001b[0;36m250\u001b[0m\u001b[0;34m,\u001b[0m\u001b[0;36m250\u001b[0m\u001b[0;34m)\u001b[0m\u001b[0;34m)\u001b[0m\u001b[0;34m\u001b[0m\u001b[0;34m\u001b[0m\u001b[0m\n",
            "\u001b[0;32m/usr/local/lib/python3.8/dist-packages/PIL/Image.py\u001b[0m in \u001b[0;36mfromarray\u001b[0;34m(obj, mode)\u001b[0m\n\u001b[1;32m   2702\u001b[0m     \u001b[0;34m.\u001b[0m\u001b[0;34m.\u001b[0m \u001b[0mversionadded\u001b[0m\u001b[0;34m:\u001b[0m\u001b[0;34m:\u001b[0m \u001b[0;36m1.1\u001b[0m\u001b[0;36m.6\u001b[0m\u001b[0;34m\u001b[0m\u001b[0;34m\u001b[0m\u001b[0m\n\u001b[1;32m   2703\u001b[0m     \"\"\"\n\u001b[0;32m-> 2704\u001b[0;31m     \u001b[0marr\u001b[0m \u001b[0;34m=\u001b[0m \u001b[0mobj\u001b[0m\u001b[0;34m.\u001b[0m\u001b[0m__array_interface__\u001b[0m\u001b[0;34m\u001b[0m\u001b[0;34m\u001b[0m\u001b[0m\n\u001b[0m\u001b[1;32m   2705\u001b[0m     \u001b[0mshape\u001b[0m \u001b[0;34m=\u001b[0m \u001b[0marr\u001b[0m\u001b[0;34m[\u001b[0m\u001b[0;34m\"shape\"\u001b[0m\u001b[0;34m]\u001b[0m\u001b[0;34m\u001b[0m\u001b[0;34m\u001b[0m\u001b[0m\n\u001b[1;32m   2706\u001b[0m     \u001b[0mndim\u001b[0m \u001b[0;34m=\u001b[0m \u001b[0mlen\u001b[0m\u001b[0;34m(\u001b[0m\u001b[0mshape\u001b[0m\u001b[0;34m)\u001b[0m\u001b[0;34m\u001b[0m\u001b[0;34m\u001b[0m\u001b[0m\n",
            "\u001b[0;31mAttributeError\u001b[0m: 'NoneType' object has no attribute '__array_interface__'"
          ]
        }
      ]
    }
  ],
  "metadata": {
    "accelerator": "GPU",
    "colab": {
      "provenance": [],
      "mount_file_id": "18UOMelpGtH3LxKCDdSLp2YwCGhx0rBhP",
      "authorship_tag": "ABX9TyMfbjLh+m8Z1chCwFvWZpfc",
      "include_colab_link": true
    },
    "gpuClass": "standard",
    "kernelspec": {
      "display_name": "Python 3",
      "name": "python3"
    },
    "language_info": {
      "name": "python"
    }
  },
  "nbformat": 4,
  "nbformat_minor": 0
}